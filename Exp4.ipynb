{
 "cells": [
  {
   "cell_type": "code",
   "execution_count": 2,
   "id": "e06912c2-8476-4b5b-be84-e8104b60d62c",
   "metadata": {},
   "outputs": [
    {
     "name": "stdin",
     "output_type": "stream",
     "text": [
      "Enter the first term 10\n",
      "Enter the second term 20\n"
     ]
    },
    {
     "name": "stdout",
     "output_type": "stream",
     "text": [
      "Before swapping :  10   20\n",
      "After swapping :  20   10\n"
     ]
    }
   ],
   "source": [
    "num1 = int(input(\"Enter the first term : \"))\n",
    "num2 = int(input(\"Enter the second term : \"))\n",
    "print(\"Before swapping : \",num1,\" \",num2)\n",
    "temp = num1\n",
    "num1 = num2\n",
    "num2 = temp\n",
    "print(\"After swapping : \",num1,\" \",num2)"
   ]
  },
  {
   "cell_type": "code",
   "execution_count": 3,
   "id": "361837ab-78c9-4277-bcb8-4cfe6c2564b2",
   "metadata": {},
   "outputs": [
    {
     "name": "stdin",
     "output_type": "stream",
     "text": [
      "Enter the first term 10\n",
      "Enter the second term 20\n"
     ]
    },
    {
     "name": "stdout",
     "output_type": "stream",
     "text": [
      "Before swapping :  10   20\n",
      "After swapping :  20   10\n"
     ]
    }
   ],
   "source": [
    "num1 = int(input(\"Enter the first term : \"))\n",
    "num2 = int(input(\"Enter the second term : \"))\n",
    "print(\"Before swapping : \",num1,\" \",num2)\n",
    "num1,num2 = num2,num1\n",
    "print(\"After swapping : \",num1,\" \",num2)"
   ]
  },
  {
   "cell_type": "code",
   "execution_count": null,
   "id": "2a530123-d1aa-4f04-8eee-719c3b4b60e5",
   "metadata": {},
   "outputs": [],
   "source": []
  }
 ],
 "metadata": {
  "kernelspec": {
   "display_name": "Python 3 (ipykernel)",
   "language": "python",
   "name": "python3"
  },
  "language_info": {
   "codemirror_mode": {
    "name": "ipython",
    "version": 3
   },
   "file_extension": ".py",
   "mimetype": "text/x-python",
   "name": "python",
   "nbconvert_exporter": "python",
   "pygments_lexer": "ipython3",
   "version": "3.12.3"
  }
 },
 "nbformat": 4,
 "nbformat_minor": 5
}
