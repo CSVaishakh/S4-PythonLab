{
 "cells": [
  {
   "cell_type": "code",
   "execution_count": 3,
   "id": "703594b3-8fc2-49ca-a15a-1cca0bf11f5c",
   "metadata": {},
   "outputs": [
    {
     "name": "stdin",
     "output_type": "stream",
     "text": [
      "Enter the first numer :  10\n",
      "Enter the second number :  20\n",
      "Enter the third number :  5\n"
     ]
    },
    {
     "name": "stdout",
     "output_type": "stream",
     "text": [
      "the largest of the three is :  20\n"
     ]
    }
   ],
   "source": [
    "num1 = int(input(\"Enter the first numer : \"))\n",
    "num2 = int(input(\"Enter the second number : \"))\n",
    "num3 = int(input(\"Enter the third number : \"))\n",
    "largest = 0\n",
    "if num1 >= num2 and num2 >= num3:\n",
    "    largest = num1\n",
    "elif num2 >= num1 and num2 >=num3:\n",
    "    largest = num2\n",
    "else:\n",
    "    largest = num2\n",
    "print(\"the largest of the three is : \",largest)"
   ]
  },
  {
   "cell_type": "code",
   "execution_count": null,
   "id": "79df8960-d0f0-4188-ba7d-d4787c3ef821",
   "metadata": {},
   "outputs": [],
   "source": []
  }
 ],
 "metadata": {
  "kernelspec": {
   "display_name": "Python 3 (ipykernel)",
   "language": "python",
   "name": "python3"
  },
  "language_info": {
   "codemirror_mode": {
    "name": "ipython",
    "version": 3
   },
   "file_extension": ".py",
   "mimetype": "text/x-python",
   "name": "python",
   "nbconvert_exporter": "python",
   "pygments_lexer": "ipython3",
   "version": "3.12.3"
  }
 },
 "nbformat": 4,
 "nbformat_minor": 5
}
