{
 "cells": [
  {
   "cell_type": "code",
   "execution_count": null,
   "id": "ea3cee3a-c993-433a-ade3-a70fdc5e847a",
   "metadata": {},
   "outputs": [],
   "source": [
    "s = input(\"Enter the sentance : \")\n",
    "w1 = input(\"Enter the word to be replaced : \")\n",
    "w2 = input(\"Enter the replacement word : \")\n",
    "new_s = s.replace(w1,w2)\n",
    "print(\"Or\")"
   ]
  }
 ],
 "metadata": {
  "kernelspec": {
   "display_name": "Python 3 (ipykernel)",
   "language": "python",
   "name": "python3"
  },
  "language_info": {
   "codemirror_mode": {
    "name": "ipython",
    "version": 3
   },
   "file_extension": ".py",
   "mimetype": "text/x-python",
   "name": "python",
   "nbconvert_exporter": "python",
   "pygments_lexer": "ipython3",
   "version": "3.12.3"
  }
 },
 "nbformat": 4,
 "nbformat_minor": 5
}
