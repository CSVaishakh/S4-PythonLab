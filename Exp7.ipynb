{
 "cells": [
  {
   "cell_type": "code",
   "execution_count": 1,
   "id": "ea3cee3a-c993-433a-ade3-a70fdc5e847a",
   "metadata": {},
   "outputs": [
    {
     "name": "stdin",
     "output_type": "stream",
     "text": [
      "Enter the sentance :  Hello world\n",
      "Enter the word to be replaced :  Hello\n",
      "Enter the replacement word :  hi\n"
     ]
    },
    {
     "name": "stdout",
     "output_type": "stream",
     "text": [
      "Orginal sentance :  Hello world\n",
      "Modified sentace :  hi world\n"
     ]
    }
   ],
   "source": [
    "s = input(\"Enter the sentance : \")\n",
    "w1 = input(\"Enter the word to be replaced : \")\n",
    "w2 = input(\"Enter the replacement word : \")\n",
    "new_s = s.replace(w1,w2)\n",
    "print(\"Orginal sentance : \",s)\n",
    "print(\"Modified sentace : \",new_s)"
   ]
  },
  {
   "cell_type": "code",
   "execution_count": null,
   "id": "4d64b3c0-8c95-4a18-a9b7-39c1527d2b14",
   "metadata": {},
   "outputs": [],
   "source": []
  }
 ],
 "metadata": {
  "kernelspec": {
   "display_name": "Python 3 (ipykernel)",
   "language": "python",
   "name": "python3"
  },
  "language_info": {
   "codemirror_mode": {
    "name": "ipython",
    "version": 3
   },
   "file_extension": ".py",
   "mimetype": "text/x-python",
   "name": "python",
   "nbconvert_exporter": "python",
   "pygments_lexer": "ipython3",
   "version": "3.12.3"
  }
 },
 "nbformat": 4,
 "nbformat_minor": 5
}
