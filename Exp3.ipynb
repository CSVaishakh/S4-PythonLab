{
 "cells": [
  {
   "cell_type": "code",
   "execution_count": 2,
   "id": "413d26e0-8b92-403c-929b-db6b49466f71",
   "metadata": {},
   "outputs": [
    {
     "name": "stdin",
     "output_type": "stream",
     "text": [
      "Enter the baselength of the triangle 10\n",
      "Enter the height of the triangle 20\n"
     ]
    },
    {
     "name": "stdout",
     "output_type": "stream",
     "text": [
      "Area :  100.0\n"
     ]
    }
   ],
   "source": [
    "b = int(input(\"Enter the baselength of the triangle : \"))\n",
    "h = int(input(\"Enter the height of the triangle : \"))\n",
    "area = (1/2)*b*h\n",
    "print(\"Area : \",area)"
   ]
  },
  {
   "cell_type": "code",
   "execution_count": null,
   "id": "d83e1376-7cc7-41b4-ace3-f58ca691a6cc",
   "metadata": {},
   "outputs": [],
   "source": []
  }
 ],
 "metadata": {
  "kernelspec": {
   "display_name": "Python 3 (ipykernel)",
   "language": "python",
   "name": "python3"
  },
  "language_info": {
   "codemirror_mode": {
    "name": "ipython",
    "version": 3
   },
   "file_extension": ".py",
   "mimetype": "text/x-python",
   "name": "python",
   "nbconvert_exporter": "python",
   "pygments_lexer": "ipython3",
   "version": "3.12.3"
  }
 },
 "nbformat": 4,
 "nbformat_minor": 5
}
